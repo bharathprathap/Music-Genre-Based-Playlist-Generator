{
 "cells": [
  {
   "cell_type": "markdown",
   "metadata": {},
   "source": [
    "# Music Genre Based Playlist Generator\n",
    "\n",
    "#### by Bharath Prathap Nair \n",
    "\n"
   ]
  },
  {
   "cell_type": "code",
   "execution_count": null,
   "metadata": {},
   "outputs": [],
   "source": []
  },
  {
   "cell_type": "markdown",
   "metadata": {},
   "source": [
    "##### Dataset Source : Kaggle [https://www.kaggle.com/cnic92/spotify-past-decades-songs-50s10s?select=2010.csv ]\n"
   ]
  },
  {
   "cell_type": "code",
   "execution_count": 236,
   "metadata": {},
   "outputs": [],
   "source": [
    "import pandas as pd\n",
    "import matplotlib.pyplot as plt"
   ]
  },
  {
   "cell_type": "code",
   "execution_count": 237,
   "metadata": {},
   "outputs": [
    {
     "name": "stdout",
     "output_type": "stream",
     "text": [
      "   Unnamed: 0       PC1       PC2       PC3  top genre\n",
      "0           0  3.616142 -2.822903  2.304606         19\n",
      "1           1  4.398339 -3.324495  1.631486         14\n",
      "2           2 -0.313810 -2.883387  1.236102         13\n",
      "3           3 -0.048058 -1.703037 -0.188615          9\n",
      "4           4  1.842614  0.768541  1.373641         15\n"
     ]
    }
   ],
   "source": [
    "data = pd.read_csv('modifiedDataset.csv')\n",
    "print(data.head())"
   ]
  },
  {
   "cell_type": "code",
   "execution_count": 238,
   "metadata": {},
   "outputs": [
    {
     "name": "stdout",
     "output_type": "stream",
     "text": [
      "<class 'pandas.core.frame.DataFrame'>\n",
      "RangeIndex: 100 entries, 0 to 99\n",
      "Data columns (total 5 columns):\n",
      " #   Column      Non-Null Count  Dtype  \n",
      "---  ------      --------------  -----  \n",
      " 0   Unnamed: 0  100 non-null    int64  \n",
      " 1   PC1         100 non-null    float64\n",
      " 2   PC2         100 non-null    float64\n",
      " 3   PC3         100 non-null    float64\n",
      " 4   top genre   100 non-null    int64  \n",
      "dtypes: float64(3), int64(2)\n",
      "memory usage: 4.0 KB\n"
     ]
    }
   ],
   "source": [
    "data.info()"
   ]
  },
  {
   "cell_type": "code",
   "execution_count": 239,
   "metadata": {},
   "outputs": [],
   "source": [
    "data=data.drop(['Unnamed: 0'],axis = 1)"
   ]
  },
  {
   "cell_type": "code",
   "execution_count": 240,
   "metadata": {},
   "outputs": [
    {
     "name": "stdout",
     "output_type": "stream",
     "text": [
      "<class 'pandas.core.frame.DataFrame'>\n",
      "RangeIndex: 100 entries, 0 to 99\n",
      "Data columns (total 4 columns):\n",
      " #   Column     Non-Null Count  Dtype  \n",
      "---  ------     --------------  -----  \n",
      " 0   PC1        100 non-null    float64\n",
      " 1   PC2        100 non-null    float64\n",
      " 2   PC3        100 non-null    float64\n",
      " 3   top genre  100 non-null    int64  \n",
      "dtypes: float64(3), int64(1)\n",
      "memory usage: 3.2 KB\n"
     ]
    }
   ],
   "source": [
    "data.info()"
   ]
  },
  {
   "cell_type": "code",
   "execution_count": 241,
   "metadata": {},
   "outputs": [
    {
     "data": {
      "text/plain": [
       "(100, 4)"
      ]
     },
     "execution_count": 241,
     "metadata": {},
     "output_type": "execute_result"
    }
   ],
   "source": [
    "data.shape"
   ]
  },
  {
   "cell_type": "code",
   "execution_count": 242,
   "metadata": {},
   "outputs": [],
   "source": [
    "from sklearn.model_selection import train_test_split  \n",
    "arr=data.values\n",
    "X=arr[:,0:3]\n",
    "Y=arr[:,3]\n",
    "X_train, X_test, y_train, y_test = train_test_split(X, Y, test_size=0.20, random_state=1)  "
   ]
  },
  {
   "cell_type": "code",
   "execution_count": 215,
   "metadata": {},
   "outputs": [],
   "source": [
    "accuracies=[]\n",
    "modelName=[]"
   ]
  },
  {
   "cell_type": "markdown",
   "metadata": {},
   "source": [
    "## KNN"
   ]
  },
  {
   "cell_type": "code",
   "execution_count": 216,
   "metadata": {},
   "outputs": [
    {
     "name": "stdout",
     "output_type": "stream",
     "text": [
      "Accuracy: 0.35\n"
     ]
    }
   ],
   "source": [
    "from sklearn.neighbors import KNeighborsClassifier  \n",
    "\n",
    "classifier = KNeighborsClassifier(n_neighbors=4)  \n",
    "classifier.fit(X_train, y_train)\n",
    "y_pred = classifier.predict(X_test)\n",
    "\n",
    "\n",
    "from sklearn.metrics import accuracy_score\n",
    "knn_accuracy=accuracy_score(y_test,y_pred)\n",
    "print(\"Accuracy:\",knn_accuracy)\n",
    "\n",
    "accuracies.append(knn_accuracy)\n",
    "modelName.append(\"KNN\")\n"
   ]
  },
  {
   "cell_type": "markdown",
   "metadata": {},
   "source": [
    "## SVM"
   ]
  },
  {
   "cell_type": "code",
   "execution_count": 217,
   "metadata": {},
   "outputs": [
    {
     "name": "stdout",
     "output_type": "stream",
     "text": [
      "Accuracy: 0.35\n"
     ]
    }
   ],
   "source": [
    "from sklearn.svm import SVC\n",
    "svm_model_linear = SVC(kernel = 'linear', C = 1).fit(X_train, y_train)\n",
    "svm_predictions = svm_model_linear.predict(X_test)\n",
    " \n",
    "# model accuracy for X_test \n",
    "accuracy = svm_model_linear.score(X_test, y_test)\n",
    " \n",
    "svm_accuracy=accuracy_score(y_test,svm_predictions)\n",
    "print(\"Accuracy:\",svm_accuracy)\n",
    "\n",
    "accuracies.append(svm_accuracy)\n",
    "modelName.append(\"SVM\")"
   ]
  },
  {
   "cell_type": "markdown",
   "metadata": {},
   "source": [
    "## Logistic Regression"
   ]
  },
  {
   "cell_type": "code",
   "execution_count": 218,
   "metadata": {},
   "outputs": [
    {
     "name": "stdout",
     "output_type": "stream",
     "text": [
      "Accuracy: 0.4\n"
     ]
    }
   ],
   "source": [
    "#Logistic Regression\n",
    "\n",
    "from sklearn.linear_model import LogisticRegression\n",
    "model = LogisticRegression(max_iter=1000,random_state=0, \n",
    "                           solver='lbfgs', multi_class='multinomial')\n",
    "model.fit(X_train, y_train)\n",
    "\n",
    "predicted = model.predict(X_test)\n",
    "logistic_accuracy=accuracy_score(y_test, predicted)\n",
    "print(\"Accuracy:\",logistic_accuracy)\n",
    "\n",
    "accuracies.append(logistic_accuracy)\n",
    "modelName.append(\"Logistic Regression\")"
   ]
  },
  {
   "cell_type": "markdown",
   "metadata": {},
   "source": [
    "## Decision Tree"
   ]
  },
  {
   "cell_type": "code",
   "execution_count": 219,
   "metadata": {},
   "outputs": [
    {
     "name": "stdout",
     "output_type": "stream",
     "text": [
      "Accuracy: 0.1\n"
     ]
    }
   ],
   "source": [
    "from sklearn.tree import DecisionTreeClassifier\n",
    "\n",
    "tree = DecisionTreeClassifier(criterion = 'entropy', random_state = 10)\n",
    "tree.fit(X_train, y_train)\n",
    "pred = tree.predict(X_test)\n",
    "tree_accuracy=accuracy_score(y_test, pred)\n",
    "print(\"Accuracy:\",tree_accuracy)\n",
    "\n",
    "accuracies.append(tree_accuracy)\n",
    "modelName.append(\"Decision Tree\")"
   ]
  },
  {
   "cell_type": "markdown",
   "metadata": {},
   "source": [
    "## Naive bayes"
   ]
  },
  {
   "cell_type": "code",
   "execution_count": 220,
   "metadata": {},
   "outputs": [
    {
     "name": "stdout",
     "output_type": "stream",
     "text": [
      "Accuracy: 0.3\n"
     ]
    }
   ],
   "source": [
    "from sklearn.naive_bayes import GaussianNB\n",
    "gnb = GaussianNB()\n",
    "gnb.fit(X_train, y_train)\n",
    "gnb_predict =gnb.predict(X_test)\n",
    "gnb_accuracy=accuracy_score(y_test, gnb_predict)\n",
    "print(\"Accuracy:\",gnb_accuracy)\n",
    "\n",
    "accuracies.append(gnb_accuracy)\n",
    "modelName.append(\"Naive Bayes\")"
   ]
  },
  {
   "cell_type": "code",
   "execution_count": 224,
   "metadata": {},
   "outputs": [
    {
     "data": {
      "image/png": "[encoded data removed]",
      "text/plain": [
       "<Figure size 720x360 with 1 Axes>"
      ]
     },
     "metadata": {
      "needs_background": "light"
     },
     "output_type": "display_data"
    }
   ],
   "source": [
    "fig = plt.figure(figsize = (10, 5))\n",
    "plt.bar(modelName, accuracies)\n",
    "plt.xlabel('Model')\n",
    "plt.ylabel('Accuracy')\n",
    "plt.title('Accuracies of Different Models Before Validating the Data')\n",
    "plt.show()"
   ]
  },
  {
   "cell_type": "markdown",
   "metadata": {},
   "source": [
    "# Applying validation"
   ]
  },
  {
   "cell_type": "markdown",
   "metadata": {},
   "source": [
    "## KNN"
   ]
  },
  {
   "cell_type": "code",
   "execution_count": 187,
   "metadata": {},
   "outputs": [],
   "source": [
    "k_vals=[]\n",
    "mean_accuracies=[]\n",
    "exec_time=[]"
   ]
  },
  {
   "cell_type": "code",
   "execution_count": 191,
   "metadata": {},
   "outputs": [
    {
     "name": "stdout",
     "output_type": "stream",
     "text": [
      "0.1\n",
      "0.3\n",
      "0.3\n",
      "0.35\n",
      "0.6\n",
      "\n",
      "Mean:  0.32999999999999996\n"
     ]
    }
   ],
   "source": [
    "from sklearn.model_selection import KFold\n",
    "import numpy as np\n",
    "import time\n",
    "\n",
    "kf = KFold(n_splits=5, random_state=None) \n",
    "\n",
    "accuracy =[]\n",
    "\n",
    "for train_index, test_index in kf.split(X):\n",
    "    X_train, X_test = X[train_index], X[test_index] \n",
    "    y_train, y_test = Y[train_index], Y[test_index]\n",
    "    \n",
    "    from sklearn.neighbors import KNeighborsClassifier  \n",
    "    \n",
    "    start = time.time()\n",
    "    k=5\n",
    "    classifier = KNeighborsClassifier(n_neighbors=k)  \n",
    "    classifier.fit(X_train, y_train)\n",
    "    y_pred = classifier.predict(X_test)\n",
    "    end = time.time()\n",
    "    \n",
    "    accuracy.append(accuracy_score(y_test, y_pred))\n",
    "    print(accuracy_score(y_test, y_pred))\n",
    "\n",
    "acc=np.array(accuracy)    \n",
    "print(\"\\nMean: \",np.mean(acc))\n",
    "    "
   ]
  },
  {
   "cell_type": "code",
   "execution_count": 169,
   "metadata": {},
   "outputs": [],
   "source": [
    "k_vals.append(k)\n",
    "mean_accuracies.append(np.mean(acc))\n",
    "exec_time.append(end-start)"
   ]
  },
  {
   "cell_type": "code",
   "execution_count": 170,
   "metadata": {},
   "outputs": [
    {
     "data": {
      "image/png": "[encoded data removed]",
      "text/plain": [
       "<Figure size 720x360 with 1 Axes>"
      ]
     },
     "metadata": {
      "needs_background": "light"
     },
     "output_type": "display_data"
    }
   ],
   "source": [
    "fig = plt.figure(figsize = (10, 5))\n",
    "plt.bar(k_vals, mean_accuracies)\n",
    "plt.xlabel('K values')\n",
    "plt.ylabel('Accuracy')\n",
    "plt.show()"
   ]
  },
  {
   "cell_type": "code",
   "execution_count": 171,
   "metadata": {},
   "outputs": [
    {
     "data": {
      "image/png": "[encoded data removed]",
      "text/plain": [
       "<Figure size 720x360 with 1 Axes>"
      ]
     },
     "metadata": {
      "needs_background": "light"
     },
     "output_type": "display_data"
    }
   ],
   "source": [
    "fig = plt.figure(figsize = (10, 5))\n",
    "plt.bar(k_vals, exec_time)\n",
    "plt.xlabel('K values')\n",
    "plt.ylabel('Execution time')\n",
    "plt.show()"
   ]
  },
  {
   "cell_type": "markdown",
   "metadata": {},
   "source": [
    "## SVM"
   ]
  },
  {
   "cell_type": "code",
   "execution_count": 172,
   "metadata": {},
   "outputs": [
    {
     "name": "stdout",
     "output_type": "stream",
     "text": [
      "0.15\n",
      "0.25\n",
      "0.3\n",
      "0.65\n",
      "0.65\n",
      "\n",
      "Mean:  0.4\n"
     ]
    }
   ],
   "source": [
    "from sklearn.model_selection import KFold\n",
    "import numpy as np\n",
    "kf = KFold(n_splits=5, random_state=None) \n",
    "# X is the feature set and y is the target\n",
    "\n",
    "accuracy =[]\n",
    "\n",
    "for train_index, test_index in kf.split(X):\n",
    "    X_train, X_test = X[train_index], X[test_index] \n",
    "    y_train, y_test = Y[train_index], Y[test_index]\n",
    "    \n",
    "    from sklearn.svm import SVC\n",
    "    svm_model_linear = SVC(kernel = 'linear', C = 1).fit(X_train, y_train)\n",
    "    svm_predictions = svm_model_linear.predict(X_test)\n",
    "    \n",
    "    svm_accuracy=accuracy_score(y_test,svm_predictions)\n",
    "    accuracy.append(svm_accuracy)\n",
    "    print(accuracy_score(y_test, svm_predictions))\n",
    "\n",
    "acc=np.array(accuracy)    \n",
    "print(\"\\nMean: \",np.mean(acc))\n",
    "    "
   ]
  },
  {
   "cell_type": "markdown",
   "metadata": {},
   "source": [
    "## Logistic Regression"
   ]
  },
  {
   "cell_type": "code",
   "execution_count": 173,
   "metadata": {},
   "outputs": [
    {
     "name": "stdout",
     "output_type": "stream",
     "text": [
      "0.15\n",
      "0.3\n",
      "0.35\n",
      "0.65\n",
      "0.65\n",
      "\n",
      "Mean:  0.42000000000000004\n"
     ]
    }
   ],
   "source": [
    "from sklearn.model_selection import KFold\n",
    "import numpy as np\n",
    "kf = KFold(n_splits=5, random_state=None) \n",
    "# X is the feature set and y is the target\n",
    "\n",
    "accuracy =[]\n",
    "\n",
    "for train_index, test_index in kf.split(X):\n",
    "    X_train, X_test = X[train_index], X[test_index] \n",
    "    y_train, y_test = Y[train_index], Y[test_index]\n",
    "    \n",
    "    from sklearn.linear_model import LogisticRegression\n",
    "    model = LogisticRegression(max_iter=1000,random_state=0,\n",
    "                               solver='lbfgs', multi_class='multinomial')\n",
    "    model.fit(X_train, y_train)\n",
    "\n",
    "    predicted = model.predict(X_test)\n",
    "    logistic_accuracy=accuracy_score(y_test, predicted)\n",
    "\n",
    "    accuracy.append(logistic_accuracy)\n",
    "    print(accuracy_score(y_test, predicted))\n",
    "\n",
    "acc=np.array(accuracy)    \n",
    "print(\"\\nMean: \",np.mean(acc))\n",
    "    "
   ]
  },
  {
   "cell_type": "markdown",
   "metadata": {},
   "source": [
    "## Decision Tree"
   ]
  },
  {
   "cell_type": "code",
   "execution_count": 174,
   "metadata": {},
   "outputs": [
    {
     "name": "stdout",
     "output_type": "stream",
     "text": [
      "0.0\n",
      "0.2\n",
      "0.25\n",
      "0.2\n",
      "0.4\n",
      "\n",
      "Mean:  0.21000000000000002\n"
     ]
    }
   ],
   "source": [
    "from sklearn.model_selection import KFold\n",
    "import numpy as np\n",
    "kf = KFold(n_splits=5, random_state=None) \n",
    "# X is the feature set and y is the target\n",
    "\n",
    "accuracy =[]\n",
    "\n",
    "for train_index, test_index in kf.split(X):\n",
    "    X_train, X_test = X[train_index], X[test_index] \n",
    "    y_train, y_test = Y[train_index], Y[test_index]\n",
    "    \n",
    "    from sklearn.tree import DecisionTreeClassifier\n",
    "\n",
    "    tree = DecisionTreeClassifier(criterion = 'entropy', random_state = 10)\n",
    "    tree.fit(X_train, y_train)\n",
    "    pred = tree.predict(X_test)\n",
    "    tree_accuracy=accuracy_score(y_test, pred)\n",
    "\n",
    "    accuracy.append(tree_accuracy)\n",
    "    print(accuracy_score(y_test, pred))\n",
    "\n",
    "acc=np.array(accuracy)    \n",
    "print(\"\\nMean: \",np.mean(acc))\n",
    "    "
   ]
  },
  {
   "cell_type": "markdown",
   "metadata": {},
   "source": [
    "## Naive Bayes"
   ]
  },
  {
   "cell_type": "code",
   "execution_count": 175,
   "metadata": {},
   "outputs": [
    {
     "name": "stdout",
     "output_type": "stream",
     "text": [
      "0.15\n",
      "0.3\n",
      "0.2\n",
      "0.6\n",
      "0.65\n",
      "\n",
      "Mean:  0.38\n"
     ]
    }
   ],
   "source": [
    "from sklearn.model_selection import KFold\n",
    "import numpy as np\n",
    "kf = KFold(n_splits=5, random_state=None) \n",
    "# X is the feature set and y is the target\n",
    "\n",
    "accuracy =[]\n",
    "\n",
    "for train_index, test_index in kf.split(X):\n",
    "    X_train, X_test = X[train_index], X[test_index] \n",
    "    y_train, y_test = Y[train_index], Y[test_index]\n",
    "    \n",
    "    from sklearn.naive_bayes import GaussianNB\n",
    "    gnb = GaussianNB()\n",
    "    gnb.fit(X_train, y_train)\n",
    "    gnb_predict =gnb.predict(X_test)\n",
    "    gnb_accuracy=accuracy_score(y_test, gnb_predict)\n",
    "\n",
    "    accuracy.append(gnb_accuracy)\n",
    "    print(accuracy_score(y_test, gnb_predict))\n",
    "\n",
    "acc=np.array(accuracy)    \n",
    "print(\"\\nMean: \",np.mean(acc))\n",
    "    "
   ]
  },
  {
   "cell_type": "markdown",
   "metadata": {},
   "source": [
    "## Naive Bayes -Implementation"
   ]
  },
  {
   "cell_type": "code",
   "execution_count": 244,
   "metadata": {},
   "outputs": [],
   "source": [
    "import math\n",
    "import numpy as np\n",
    "class NaiveBayes():\n",
    "    \n",
    "    def fit(self, X, y):\n",
    "        self.X = X\n",
    "        self.y = y\n",
    "        self.classes = np.unique(y)\n",
    "        self.parameters = []\n",
    "        for i, c in enumerate(self.classes):\n",
    "            X_where_c = X[np.where(y == c)]\n",
    "            self.parameters.append([])\n",
    "            for col in X_where_c.T:\n",
    "                parameters = {\"mean\": col.mean(), \"var\": col.var()}\n",
    "                self.parameters[i].append(parameters)\n",
    "                \n",
    "                \n",
    "    def likelihood(self, mean, var, x):\n",
    "        m = 0.01\n",
    "        gaussian = (1.0 / math.sqrt(2.0 * math.pi * var + m))*(math.exp(-(math.pow(x - mean, 2) / (2 * var + m))))\n",
    "        return gaussian\n",
    "    \n",
    "    def prior(self, target):\n",
    "        return np.mean(self.y == target)\n",
    "    \n",
    "    def predict(self, X):\n",
    "        y_pred = []\n",
    "        for j in X:\n",
    "            posteriors = []\n",
    "            for i, c in enumerate(self.classes):\n",
    "                posterior = self.prior(c)\n",
    "                for feature_value, params in zip(j, self.parameters[i]):\n",
    "                    likelihood = self.likelihood(params[\"mean\"], params[\"var\"], feature_value)\n",
    "                    posterior *= likelihood\n",
    "                posteriors.append(posterior)\n",
    "            y_pred.append(self.classes[np.argmax(posteriors)])\n",
    "        return y_pred"
   ]
  },
  {
   "cell_type": "code",
   "execution_count": 246,
   "metadata": {},
   "outputs": [
    {
     "name": "stdout",
     "output_type": "stream",
     "text": [
      "Accuracy:  0.3\n"
     ]
    }
   ],
   "source": [
    "model = NaiveBayes()\n",
    "model.fit(X_train,y_train)\n",
    "pred = model.predict(X_test)\n",
    "\n",
    "print(\"Accuracy: \",accuracy_score(y_test,pred))"
   ]
  },
  {
   "cell_type": "code",
   "execution_count": 178,
   "metadata": {},
   "outputs": [
    {
     "name": "stdout",
     "output_type": "stream",
     "text": [
      "0.0\n"
     ]
    }
   ],
   "source": [
    "from sklearn.metrics import classification_report, confusion_matrix\n",
    "from sklearn.metrics import accuracy_score\n",
    "\n",
    "def calculate_euclid(p,p_set,y):\n",
    "    ans = []\n",
    "    j = 0\n",
    "    for i in p_set:\n",
    "        ans.append((i[0],i[1],((i[0]-p[0])*(i[0]-p[0]) + (i[1]-p[1])**2)**0.5,y[j]))\n",
    "        j = j + 1\n",
    "    return ans\n",
    "\n",
    "def get_k_closest(p_set,k):\n",
    "    ans = []\n",
    "    for i in range(k):\n",
    "        ans.append((p_set[i][0],p_set[i][1],p_set[i][2],p_set[i][3]))\n",
    "    return ans\n",
    "        \n",
    "        \n",
    "k = 5\n",
    "y_pred = []\n",
    "    \n",
    "for i in X_test:\n",
    "    euclid_calced = calculate_euclid(i,X_train,y_train)\n",
    "    d = np.array(euclid_calced)\n",
    "    sortedDist=d[d[:,2].argsort()]\n",
    "    k_closest = get_k_closest(sortedDist,k)\n",
    "    z = 0\n",
    "    o = 0\n",
    "    for i in k_closest:\n",
    "        if(int(i[3]) == 0):\n",
    "            z = z + 1\n",
    "        else:\n",
    "            o = o + 1\n",
    "    if(z>o):\n",
    "        y_pred.append(0)\n",
    "    else:\n",
    "        y_pred.append(1)\n",
    "        \n",
    "    \n",
    "print(accuracy_score(y_test,y_pred))\n"
   ]
  },
  {
   "cell_type": "code",
   "execution_count": 205,
   "metadata": {},
   "outputs": [
    {
     "data": {
      "image/png": "[encoded data removed]",
      "text/plain": [
       "<Figure size 720x360 with 1 Axes>"
      ]
     },
     "metadata": {
      "needs_background": "light"
     },
     "output_type": "display_data"
    }
   ],
   "source": [
    "model_name2=[\"KNN\",\"SVM\",\"Logistic Regression\",\"Decision Tree\",\"Naive Bayes\"]\n",
    "acc_val=[0.32,0.40,0.42,0.21,0.38]\n",
    "fig = plt.figure(figsize = (10, 5))\n",
    "plt.bar(model_name2, acc_val)\n",
    "plt.xlabel('Model')\n",
    "plt.ylabel('Accuracy')\n",
    "plt.title('Accuracies of different Models after validating the Data')\n",
    "plt.show()\n"
   ]
  }
 ],
 "metadata": {
  "kernelspec": {
   "display_name": "Python 3",
   "language": "python",
   "name": "python3"
  },
  "language_info": {
   "codemirror_mode": {
    "name": "ipython",
    "version": 3
   },
   "file_extension": ".py",
   "mimetype": "text/x-python",
   "name": "python",
   "nbconvert_exporter": "python",
   "pygments_lexer": "ipython3",
   "version": "3.8.10"
  }
 },
 "nbformat": 4,
 "nbformat_minor": 4
}
